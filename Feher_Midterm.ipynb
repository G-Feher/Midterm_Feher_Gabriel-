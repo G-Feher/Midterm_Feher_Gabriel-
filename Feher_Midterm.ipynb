{
 "cells": [
  {
   "cell_type": "code",
   "execution_count": 40,
   "id": "061cfb2f",
   "metadata": {},
   "outputs": [],
   "source": [
    "#Question 1\n",
    "list = (2,4,6,8,4,5,2,1,9,0,4,6,7,4,3,2,1,9,10,3,7,9,6,0,1,3,5,6,7,8,9,10,2,3,6,8,9,10,6,7,4,3,2,1,9,10,3,7,9,6,0,1,3,5,6,7,8,9,10,2,3,6,8,9,10,2,4,6,8,4,5,2,1,9,0,4,6,7,4,3,2,1,9,10,4,5,2,1,9,0,4,6,7,4,3,2,1,9,10,3,7,9,6,0,1,3,5,6,7,8,9,10,2,3,6,8,9,10,6,7,4,3,6,8,4,5,2,10,3,7,9,6,0,1,3,5,6,7,8,9,10,2,3,6,8,9,10,2,4,6,8,4,5,2,1,9,0,4,6,7,4,2,4,6,8,4,5,2,1,9,0,4,6,7,4,3,2,1,9,10,3,7,9,6)\n",
    "a=list"
   ]
  },
  {
   "cell_type": "code",
   "execution_count": 47,
   "id": "2aa5c90f",
   "metadata": {},
   "outputs": [
    {
     "name": "stdout",
     "output_type": "stream",
     "text": [
      "{2: 19, 4: 22, 6: 25, 8: 13, 5: 10, 1: 14, 9: 23, 0: 9, 7: 16, 3: 19, 10: 14}\n",
      "2 occurs 19 times 4 occurs 22 times 6 occurs 25 times 8 occurs 13 times 5 occurs 10 times 1 occurs 14 times 9 occurs 23 times 0 occurs 9 times 7 occurs 16 times 3 occurs 19 times 10 occurs 14 times\n"
     ]
    }
   ],
   "source": [
    "def CountFreq(a):\n",
    "  freq = {}\n",
    "  for items in a:\n",
    "    freq[items] = freq.get(items,0)+1\n",
    "  print(freq)\n",
    "CountFreq(a)\n",
    "print(\"2 occurs 19 times\", \"4 occurs 22 times\",\"6 occurs 25 times\", \"8 occurs 13 times\", \"5 occurs 10 times\", \"1 occurs 14 times\",\"9 occurs 23 times\",\"0 occurs 9 times\",\"7 occurs 16 times\",\"3 occurs 19 times\",\"10 occurs 14 times\")"
   ]
  },
  {
   "cell_type": "code",
   "execution_count": 21,
   "id": "51395441",
   "metadata": {},
   "outputs": [
    {
     "data": {
      "text/plain": [
       "<function matplotlib.pyplot.show(close=None, block=None)>"
      ]
     },
     "execution_count": 21,
     "metadata": {},
     "output_type": "execute_result"
    },
    {
     "data": {
      "image/png": "[encoded data removed]",
      "text/plain": [
       "<Figure size 432x288 with 1 Axes>"
      ]
     },
     "metadata": {
      "needs_background": "light"
     },
     "output_type": "display_data"
    }
   ],
   "source": [
    "import matplotlib.pyplot as plt\n",
    "import numpy as np\n",
    "\n",
    "s=(2,4,6,8,4,5,2,1,9,0,4,6,7,4,3,2,1,9,10,3,7,9,6,0,1,3,5,6,7,8,9,10,2,3,6,8,9,10,6,7,4,3,2,1,9,10,3,7,9,6,0,1,3,5,6,7,8,9,10,2,3,6,8,9,10,2,4,6,8,4,5,2,1,9,0,4,6,7,4,3,2,1,9,10,3,7,9,6,4,5,2,1,9,0,4,6,7,4,3,2,1,9,10,3,7,9,6,0,1,3,5,6,7,8,9,10,2,3,6,8,9,10,6,7,4,3,6,8,4,5,2,10,3,7,9,6,0,1,3,5,6,7,8,9,10,2,3,6,8,9,10,2,4,6,8,4,5,2,1,9,0,4,6,7,4,2,4,6,8,4,5,2,1,9,0,4,6,7,4,3,2,1,9,10,3,7,9,6)\n",
    "\n",
    "plt.hist(s)\n",
    "plt.show"
   ]
  },
  {
   "cell_type": "code",
   "execution_count": 49,
   "id": "7c3bcb48",
   "metadata": {},
   "outputs": [
    {
     "name": "stdout",
     "output_type": "stream",
     "text": [
      "{\"2\": 19, \"4\": 22, \"6\": 25, \"8\": 13, \"5\": 10, \"1\": 14, \"9\": 23, \"0\": 9, \"7\": 16, \"3\": 19, \"10\": 14}\n"
     ]
    }
   ],
   "source": [
    "import json\n",
    "x= {\n",
    "    2: 19,\n",
    "    4: 22,\n",
    "    6: 25,\n",
    "    8: 13,\n",
    "    5: 10,\n",
    "    1: 14,\n",
    "    9: 23,\n",
    "    0: 9,\n",
    "    7: 16,\n",
    "    3: 19,\n",
    "    10: 14\n",
    "}\n",
    "y=json.dumps(x)\n",
    "print(y)"
   ]
  },
  {
   "cell_type": "code",
   "execution_count": 158,
   "id": "a18354ce",
   "metadata": {},
   "outputs": [
    {
     "name": "stdout",
     "output_type": "stream",
     "text": [
      "This is Numbers\n",
      "{\"2\": 19, \"4\": 22, \"6\": 25, \"8\": 13, \"5\": 10, \"1\": 14, \"9\": 23, \"0\": 9, \"7\": 16, \"3\": 19, \"10\": 14}{\"2\": 19, \"4\": 22, \"6\": 25, \"8\": 13, \"5\": 10, \"1\": 14, \"9\": 23, \"0\": 9, \"7\": 16, \"3\": 19, \"10\": 14}\n"
     ]
    }
   ],
   "source": [
    "import json\n",
    "f= open(\"numbers\",\"r\")\n",
    "print(f.read())"
   ]
  },
  {
   "cell_type": "code",
   "execution_count": 159,
   "id": "cb60f784",
   "metadata": {},
   "outputs": [
    {
     "name": "stdout",
     "output_type": "stream",
     "text": [
      "This is Numbers\n",
      "{\"2\": 19, \"4\": 22, \"6\": 25, \"8\": 13, \"5\": 10, \"1\": 14, \"9\": 23, \"0\": 9, \"7\": 16, \"3\": 19, \"10\": 14}{\"2\": 19, \"4\": 22, \"6\": 25, \"8\": 13, \"5\": 10, \"1\": 14, \"9\": 23, \"0\": 9, \"7\": 16, \"3\": 19, \"10\": 14}{\"2\": 19, \"4\": 22, \"6\": 25, \"8\": 13, \"5\": 10, \"1\": 14, \"9\": 23, \"0\": 9, \"7\": 16, \"3\": 19, \"10\": 14}\n"
     ]
    }
   ],
   "source": [
    "f = open(\"numbers\", \"a\")\n",
    "f.write('{\"2\": 19, \"4\": 22, \"6\": 25, \"8\": 13, \"5\": 10, \"1\": 14, \"9\": 23, \"0\": 9, \"7\": 16, \"3\": 19, \"10\": 14}')\n",
    "f.close()\n",
    "\n",
    "\n",
    "f = open(\"numbers\", \"r\")\n",
    "print(f.read())"
   ]
  },
  {
   "cell_type": "code",
   "execution_count": null,
   "id": "bc41eaa2",
   "metadata": {},
   "outputs": [],
   "source": [
    "import pandas as pd\n"
   ]
  },
  {
   "cell_type": "code",
   "execution_count": 118,
   "id": "fb80d75e",
   "metadata": {},
   "outputs": [],
   "source": [
    "df=pd.read_csv(\"file:///C:/Users/gabef/Downloads/01-Jan-2022_to_07-Nov-2022%20(1).csv\")"
   ]
  },
  {
   "cell_type": "code",
   "execution_count": 117,
   "id": "b954e793",
   "metadata": {},
   "outputs": [
    {
     "data": {
      "text/html": [
       "<div>\n",
       "<style scoped>\n",
       "    .dataframe tbody tr th:only-of-type {\n",
       "        vertical-align: middle;\n",
       "    }\n",
       "\n",
       "    .dataframe tbody tr th {\n",
       "        vertical-align: top;\n",
       "    }\n",
       "\n",
       "    .dataframe thead th {\n",
       "        text-align: right;\n",
       "    }\n",
       "</style>\n",
       "<table border=\"1\" class=\"dataframe\">\n",
       "  <thead>\n",
       "    <tr style=\"text-align: right;\">\n",
       "      <th></th>\n",
       "      <th>Order Date</th>\n",
       "      <th>Order ID</th>\n",
       "      <th>Payment Instrument Type</th>\n",
       "      <th>Website</th>\n",
       "      <th>Purchase Order Number</th>\n",
       "      <th>Ordering Customer Email</th>\n",
       "      <th>Shipment Date</th>\n",
       "      <th>Shipping Address Name</th>\n",
       "      <th>Shipping Address Street 1</th>\n",
       "      <th>Shipping Address Street 2</th>\n",
       "      <th>...</th>\n",
       "      <th>Order Status</th>\n",
       "      <th>Carrier Name &amp; Tracking Number</th>\n",
       "      <th>Subtotal</th>\n",
       "      <th>Shipping Charge</th>\n",
       "      <th>Tax Before Promotions</th>\n",
       "      <th>Total Promotions</th>\n",
       "      <th>Tax Charged</th>\n",
       "      <th>Total Charged</th>\n",
       "      <th>Buyer Name</th>\n",
       "      <th>Group Name</th>\n",
       "    </tr>\n",
       "  </thead>\n",
       "  <tbody>\n",
       "    <tr>\n",
       "      <th>0</th>\n",
       "      <td>01/13/22</td>\n",
       "      <td>111-6253979-9993819</td>\n",
       "      <td>Gift Certificate/Card</td>\n",
       "      <td>Amazon.com</td>\n",
       "      <td>NaN</td>\n",
       "      <td>gabefeher@yahoo.com</td>\n",
       "      <td>01/14/22</td>\n",
       "      <td>Gabriel Feher</td>\n",
       "      <td>12 Clover Dr</td>\n",
       "      <td>NaN</td>\n",
       "      <td>...</td>\n",
       "      <td>Shipped</td>\n",
       "      <td>USPS(9300120111408979157334)</td>\n",
       "      <td>$29.97</td>\n",
       "      <td>$0.00</td>\n",
       "      <td>$1.90</td>\n",
       "      <td>$0.00</td>\n",
       "      <td>$1.90</td>\n",
       "      <td>$31.87</td>\n",
       "      <td>Gabriel Feher</td>\n",
       "      <td>NaN</td>\n",
       "    </tr>\n",
       "    <tr>\n",
       "      <th>1</th>\n",
       "      <td>04/12/22</td>\n",
       "      <td>112-0088671-7581832</td>\n",
       "      <td>Gift Certificate/Card</td>\n",
       "      <td>Amazon.com</td>\n",
       "      <td>NaN</td>\n",
       "      <td>gabefeher@yahoo.com</td>\n",
       "      <td>04/13/22</td>\n",
       "      <td>Gabriel Feher</td>\n",
       "      <td>12 Clover Dr</td>\n",
       "      <td>NaN</td>\n",
       "      <td>...</td>\n",
       "      <td>Shipped</td>\n",
       "      <td>USPS(9361289688010637793819)</td>\n",
       "      <td>$59.99</td>\n",
       "      <td>$7.49</td>\n",
       "      <td>$0.00</td>\n",
       "      <td>$7.49</td>\n",
       "      <td>$0.00</td>\n",
       "      <td>$59.99</td>\n",
       "      <td>Gabriel Feher</td>\n",
       "      <td>NaN</td>\n",
       "    </tr>\n",
       "    <tr>\n",
       "      <th>2</th>\n",
       "      <td>05/08/22</td>\n",
       "      <td>112-0054683-4371439</td>\n",
       "      <td>Visa - 0094 and Gift Certificate/Card</td>\n",
       "      <td>Amazon.com</td>\n",
       "      <td>NaN</td>\n",
       "      <td>gabefeher@yahoo.com</td>\n",
       "      <td>05/09/22</td>\n",
       "      <td>Gabriel Feher</td>\n",
       "      <td>12 Clover Dr</td>\n",
       "      <td>NaN</td>\n",
       "      <td>...</td>\n",
       "      <td>Shipped</td>\n",
       "      <td>DHL Global Mail(9241990185922515485610)</td>\n",
       "      <td>$49.00</td>\n",
       "      <td>$4.99</td>\n",
       "      <td>$3.43</td>\n",
       "      <td>$0.00</td>\n",
       "      <td>$3.43</td>\n",
       "      <td>$57.42</td>\n",
       "      <td>Gabriel Feher</td>\n",
       "      <td>NaN</td>\n",
       "    </tr>\n",
       "    <tr>\n",
       "      <th>3</th>\n",
       "      <td>10/04/22</td>\n",
       "      <td>112-1780248-1999459</td>\n",
       "      <td>Visa - 0094</td>\n",
       "      <td>Amazon.com</td>\n",
       "      <td>NaN</td>\n",
       "      <td>gabefeher@yahoo.com</td>\n",
       "      <td>10/06/22</td>\n",
       "      <td>Gabriel Feher</td>\n",
       "      <td>38 DRIVER RD</td>\n",
       "      <td>NaN</td>\n",
       "      <td>...</td>\n",
       "      <td>Shipped</td>\n",
       "      <td>AMZN_US(TBA303185623615)</td>\n",
       "      <td>$42.99</td>\n",
       "      <td>$8.19</td>\n",
       "      <td>$2.73</td>\n",
       "      <td>$8.19</td>\n",
       "      <td>$2.73</td>\n",
       "      <td>$45.72</td>\n",
       "      <td>Gabriel Feher</td>\n",
       "      <td>NaN</td>\n",
       "    </tr>\n",
       "  </tbody>\n",
       "</table>\n",
       "<p>4 rows × 23 columns</p>\n",
       "</div>"
      ],
      "text/plain": [
       "  Order Date             Order ID                Payment Instrument Type  \\\n",
       "0   01/13/22  111-6253979-9993819                  Gift Certificate/Card   \n",
       "1   04/12/22  112-0088671-7581832                  Gift Certificate/Card   \n",
       "2   05/08/22  112-0054683-4371439  Visa - 0094 and Gift Certificate/Card   \n",
       "3   10/04/22  112-1780248-1999459                            Visa - 0094   \n",
       "\n",
       "      Website  Purchase Order Number Ordering Customer Email Shipment Date  \\\n",
       "0  Amazon.com                    NaN     gabefeher@yahoo.com      01/14/22   \n",
       "1  Amazon.com                    NaN     gabefeher@yahoo.com      04/13/22   \n",
       "2  Amazon.com                    NaN     gabefeher@yahoo.com      05/09/22   \n",
       "3  Amazon.com                    NaN     gabefeher@yahoo.com      10/06/22   \n",
       "\n",
       "  Shipping Address Name Shipping Address Street 1  Shipping Address Street 2  \\\n",
       "0         Gabriel Feher              12 Clover Dr                        NaN   \n",
       "1         Gabriel Feher              12 Clover Dr                        NaN   \n",
       "2         Gabriel Feher              12 Clover Dr                        NaN   \n",
       "3         Gabriel Feher              38 DRIVER RD                        NaN   \n",
       "\n",
       "   ... Order Status           Carrier Name & Tracking Number Subtotal  \\\n",
       "0  ...      Shipped             USPS(9300120111408979157334)   $29.97   \n",
       "1  ...      Shipped             USPS(9361289688010637793819)   $59.99   \n",
       "2  ...      Shipped  DHL Global Mail(9241990185922515485610)   $49.00   \n",
       "3  ...      Shipped                 AMZN_US(TBA303185623615)   $42.99   \n",
       "\n",
       "  Shipping Charge Tax Before Promotions Total Promotions Tax Charged  \\\n",
       "0           $0.00                 $1.90            $0.00       $1.90   \n",
       "1           $7.49                 $0.00            $7.49       $0.00   \n",
       "2           $4.99                 $3.43            $0.00       $3.43   \n",
       "3           $8.19                 $2.73            $8.19       $2.73   \n",
       "\n",
       "  Total Charged     Buyer Name Group Name  \n",
       "0        $31.87  Gabriel Feher        NaN  \n",
       "1        $59.99  Gabriel Feher        NaN  \n",
       "2        $57.42  Gabriel Feher        NaN  \n",
       "3        $45.72  Gabriel Feher        NaN  \n",
       "\n",
       "[4 rows x 23 columns]"
      ]
     },
     "execution_count": 117,
     "metadata": {},
     "output_type": "execute_result"
    }
   ],
   "source": [
    "df"
   ]
  },
  {
   "cell_type": "code",
   "execution_count": 113,
   "id": "ccbb6410",
   "metadata": {},
   "outputs": [
    {
     "data": {
      "text/plain": [
       "0    $29.97\n",
       "1    $59.99\n",
       "2    $49.00\n",
       "3    $42.99\n",
       "Name: Subtotal, dtype: object"
      ]
     },
     "execution_count": 113,
     "metadata": {},
     "output_type": "execute_result"
    }
   ],
   "source": [
    "df[\"Subtotal\"]"
   ]
  },
  {
   "cell_type": "code",
   "execution_count": 122,
   "id": "b78e793e",
   "metadata": {},
   "outputs": [
    {
     "name": "stdout",
     "output_type": "stream",
     "text": [
      "45.487500000000004\n"
     ]
    }
   ],
   "source": [
    "q=(29.97)\n",
    "w=(59.99)\n",
    "e=(49.00)\n",
    "r=(42.99)\n",
    "Mean=((q+w+e+r)/4)\n",
    "print(Mean)"
   ]
  },
  {
   "cell_type": "code",
   "execution_count": 124,
   "id": "aae34c44",
   "metadata": {},
   "outputs": [
    {
     "name": "stdout",
     "output_type": "stream",
     "text": [
      "59.99\n"
     ]
    }
   ],
   "source": [
    "Max=w\n",
    "print(Max)"
   ]
  },
  {
   "cell_type": "code",
   "execution_count": 125,
   "id": "db99faef",
   "metadata": {},
   "outputs": [
    {
     "name": "stdout",
     "output_type": "stream",
     "text": [
      "29.97\n"
     ]
    }
   ],
   "source": [
    "Min=q\n",
    "print(Min)"
   ]
  },
  {
   "cell_type": "code",
   "execution_count": 141,
   "id": "497e184f",
   "metadata": {},
   "outputs": [
    {
     "name": "stdout",
     "output_type": "stream",
     "text": [
      "45.995000000000005\n"
     ]
    }
   ],
   "source": [
    "Median=(e+r)/2\n",
    "print(Median)"
   ]
  },
  {
   "cell_type": "code",
   "execution_count": 130,
   "id": "e09898f5",
   "metadata": {},
   "outputs": [
    {
     "name": "stdout",
     "output_type": "stream",
     "text": [
      "{'January': 29.97, 'Feburary': 0, 'March': 0, 'April': 59.99, 'May': 49.0, 'June': 0, 'July': 0, 'August': 0, 'September': 0, 'October': 42.99, 'November': 0}\n"
     ]
    }
   ],
   "source": [
    "monthly_summary={\"January\":29.97, \"Feburary\": 0, \"March\":0, \"April\":59.99, \"May\":49.00, \"June\":0, \"July\":0, \"August\":0, \"September\":0, \"October\":42.99, \"November\":0}\n",
    "print(monthly_summary)\n"
   ]
  },
  {
   "cell_type": "code",
   "execution_count": 142,
   "id": "0e385357",
   "metadata": {},
   "outputs": [
    {
     "name": "stdout",
     "output_type": "stream",
     "text": [
      "16.540909090909093\n"
     ]
    }
   ],
   "source": [
    "dollarspermonth=(q+w+e+r)/11\n",
    "print(dollarspermonth)"
   ]
  },
  {
   "cell_type": "code",
   "execution_count": 133,
   "id": "98b61684",
   "metadata": {},
   "outputs": [
    {
     "name": "stdout",
     "output_type": "stream",
     "text": [
      "12.512533383238852\n"
     ]
    }
   ],
   "source": [
    "import statistics\n",
    "data=(q,w,e,r)\n",
    "print((statistics.stdev(data)))\n"
   ]
  },
  {
   "cell_type": "code",
   "execution_count": 136,
   "id": "eba3b4f0",
   "metadata": {},
   "outputs": [
    {
     "data": {
      "text/plain": [
       "<function matplotlib.pyplot.show(close=None, block=None)>"
      ]
     },
     "execution_count": 136,
     "metadata": {},
     "output_type": "execute_result"
    },
    {
     "data": {
      "image/png": "[encoded data removed]",
      "text/plain": [
       "<Figure size 432x288 with 1 Axes>"
      ]
     },
     "metadata": {},
     "output_type": "display_data"
    }
   ],
   "source": [
    "import matplotlib.pyplot as plt\n",
    "import numpy as np\n",
    "\n",
    "x=(q,w,e,r)\n",
    "mylables=[\"January\",\"April\",\"May\",\"October\"]\n",
    "plt.pie(x, labels=mylables)\n",
    "plt.show"
   ]
  },
  {
   "cell_type": "code",
   "execution_count": 137,
   "id": "447b25a6",
   "metadata": {},
   "outputs": [
    {
     "data": {
      "text/plain": [
       "<function matplotlib.pyplot.show(close=None, block=None)>"
      ]
     },
     "execution_count": 137,
     "metadata": {},
     "output_type": "execute_result"
    },
    {
     "data": {
      "image/png": "[encoded data removed]",
      "text/plain": [
       "<Figure size 432x288 with 1 Axes>"
      ]
     },
     "metadata": {
      "needs_background": "light"
     },
     "output_type": "display_data"
    }
   ],
   "source": [
    "import matplotlib.pyplot as plt\n",
    "import numpy as np\n",
    "\n",
    "x=(1,2,3,4,5,6,7,8,9,10,11)\n",
    "y=(29.97, 0, 0, 59.99, 49.99, 0, 0, 0, 0, 42.99, 0)\n",
    "\n",
    "plt.bar(x,y)\n",
    "plt.show"
   ]
  },
  {
   "cell_type": "code",
   "execution_count": 138,
   "id": "ab2e9d3a",
   "metadata": {},
   "outputs": [
    {
     "data": {
      "text/plain": [
       "<function matplotlib.pyplot.show(close=None, block=None)>"
      ]
     },
     "execution_count": 138,
     "metadata": {},
     "output_type": "execute_result"
    },
    {
     "data": {
      "image/png": "[encoded data removed]",
      "text/plain": [
       "<Figure size 432x288 with 1 Axes>"
      ]
     },
     "metadata": {
      "needs_background": "light"
     },
     "output_type": "display_data"
    }
   ],
   "source": [
    "import matplotlib.pyplot as plt\n",
    "import numpy as np\n",
    "\n",
    "x=(1,2,3,4,5,6,7,8,9,10,11)\n",
    "y=(29.97, 0, 0, 59.99, 49.99, 0, 0, 0, 0, 42.99, 0)\n",
    "\n",
    "plt.plot(x,y)\n",
    "plt.show"
   ]
  },
  {
   "cell_type": "code",
   "execution_count": 139,
   "id": "fcfd7e1e",
   "metadata": {},
   "outputs": [
    {
     "data": {
      "text/plain": [
       "<function matplotlib.pyplot.show(close=None, block=None)>"
      ]
     },
     "execution_count": 139,
     "metadata": {},
     "output_type": "execute_result"
    },
    {
     "data": {
      "image/png": "[encoded data removed]",
      "text/plain": [
       "<Figure size 432x288 with 1 Axes>"
      ]
     },
     "metadata": {
      "needs_background": "light"
     },
     "output_type": "display_data"
    }
   ],
   "source": [
    "import matplotlib.pyplot as plt\n",
    "import numpy as np\n",
    "\n",
    "x=(1,2,3,4)\n",
    "y=(1, 1, .5, 0)\n",
    "\n",
    "plt.plot(x,y)\n",
    "plt.show"
   ]
  },
  {
   "cell_type": "code",
   "execution_count": null,
   "id": "f3a90ec3",
   "metadata": {},
   "outputs": [],
   "source": []
  }
 ],
 "metadata": {
  "kernelspec": {
   "display_name": "Python 3",
   "language": "python",
   "name": "python3"
  },
  "language_info": {
   "codemirror_mode": {
    "name": "ipython",
    "version": 3
   },
   "file_extension": ".py",
   "mimetype": "text/x-python",
   "name": "python",
   "nbconvert_exporter": "python",
   "pygments_lexer": "ipython3",
   "version": "3.8.8"
  }
 },
 "nbformat": 4,
 "nbformat_minor": 5
}
